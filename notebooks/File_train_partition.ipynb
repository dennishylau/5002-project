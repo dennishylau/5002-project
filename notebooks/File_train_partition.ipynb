{
 "cells": [
  {
   "cell_type": "code",
   "execution_count": 1,
   "id": "56941a49",
   "metadata": {},
   "outputs": [],
   "source": [
    "import os\n",
    "import re\n",
    "import pandas as pd\n",
    "\n"
   ]
  },
  {
   "cell_type": "code",
   "execution_count": 2,
   "id": "00c04af8",
   "metadata": {},
   "outputs": [],
   "source": [
    "BASE_PATH = '../data-sets/KDD-Cup/data/'"
   ]
  },
  {
   "cell_type": "code",
   "execution_count": 17,
   "id": "51bb3c60",
   "metadata": {},
   "outputs": [
    {
     "data": {
      "text/html": [
       "<div>\n",
       "<style scoped>\n",
       "    .dataframe tbody tr th:only-of-type {\n",
       "        vertical-align: middle;\n",
       "    }\n",
       "\n",
       "    .dataframe tbody tr th {\n",
       "        vertical-align: top;\n",
       "    }\n",
       "\n",
       "    .dataframe thead th {\n",
       "        text-align: right;\n",
       "    }\n",
       "</style>\n",
       "<table border=\"1\" class=\"dataframe\">\n",
       "  <thead>\n",
       "    <tr style=\"text-align: right;\">\n",
       "      <th></th>\n",
       "      <th>filename</th>\n",
       "      <th>result</th>\n",
       "    </tr>\n",
       "  </thead>\n",
       "  <tbody>\n",
       "    <tr>\n",
       "      <th>0</th>\n",
       "      <td>001_UCR_Anomaly_35000.txt</td>\n",
       "      <td>&lt;re.Match object; span=(0, 25), match='001_UCR...</td>\n",
       "    </tr>\n",
       "    <tr>\n",
       "      <th>1</th>\n",
       "      <td>002_UCR_Anomaly_35000.txt</td>\n",
       "      <td>&lt;re.Match object; span=(0, 25), match='002_UCR...</td>\n",
       "    </tr>\n",
       "    <tr>\n",
       "      <th>2</th>\n",
       "      <td>003_UCR_Anomaly_35000.txt</td>\n",
       "      <td>&lt;re.Match object; span=(0, 25), match='003_UCR...</td>\n",
       "    </tr>\n",
       "    <tr>\n",
       "      <th>3</th>\n",
       "      <td>004_UCR_Anomaly_2500.txt</td>\n",
       "      <td>&lt;re.Match object; span=(0, 24), match='004_UCR...</td>\n",
       "    </tr>\n",
       "    <tr>\n",
       "      <th>4</th>\n",
       "      <td>005_UCR_Anomaly_4000.txt</td>\n",
       "      <td>&lt;re.Match object; span=(0, 24), match='005_UCR...</td>\n",
       "    </tr>\n",
       "    <tr>\n",
       "      <th>...</th>\n",
       "      <td>...</td>\n",
       "      <td>...</td>\n",
       "    </tr>\n",
       "    <tr>\n",
       "      <th>245</th>\n",
       "      <td>246_UCR_Anomaly_100211.txt</td>\n",
       "      <td>&lt;re.Match object; span=(0, 26), match='246_UCR...</td>\n",
       "    </tr>\n",
       "    <tr>\n",
       "      <th>246</th>\n",
       "      <td>247_UCR_Anomaly_50211.txt</td>\n",
       "      <td>&lt;re.Match object; span=(0, 25), match='247_UCR...</td>\n",
       "    </tr>\n",
       "    <tr>\n",
       "      <th>247</th>\n",
       "      <td>248_UCR_Anomaly_2000.txt</td>\n",
       "      <td>&lt;re.Match object; span=(0, 24), match='248_UCR...</td>\n",
       "    </tr>\n",
       "    <tr>\n",
       "      <th>248</th>\n",
       "      <td>249_UCR_Anomaly_2753.txt</td>\n",
       "      <td>&lt;re.Match object; span=(0, 24), match='249_UCR...</td>\n",
       "    </tr>\n",
       "    <tr>\n",
       "      <th>249</th>\n",
       "      <td>250_UCR_Anomaly_2951.txt</td>\n",
       "      <td>&lt;re.Match object; span=(0, 24), match='250_UCR...</td>\n",
       "    </tr>\n",
       "  </tbody>\n",
       "</table>\n",
       "<p>250 rows × 2 columns</p>\n",
       "</div>"
      ],
      "text/plain": [
       "                       filename  \\\n",
       "0     001_UCR_Anomaly_35000.txt   \n",
       "1     002_UCR_Anomaly_35000.txt   \n",
       "2     003_UCR_Anomaly_35000.txt   \n",
       "3      004_UCR_Anomaly_2500.txt   \n",
       "4      005_UCR_Anomaly_4000.txt   \n",
       "..                          ...   \n",
       "245  246_UCR_Anomaly_100211.txt   \n",
       "246   247_UCR_Anomaly_50211.txt   \n",
       "247    248_UCR_Anomaly_2000.txt   \n",
       "248    249_UCR_Anomaly_2753.txt   \n",
       "249    250_UCR_Anomaly_2951.txt   \n",
       "\n",
       "                                                result  \n",
       "0    <re.Match object; span=(0, 25), match='001_UCR...  \n",
       "1    <re.Match object; span=(0, 25), match='002_UCR...  \n",
       "2    <re.Match object; span=(0, 25), match='003_UCR...  \n",
       "3    <re.Match object; span=(0, 24), match='004_UCR...  \n",
       "4    <re.Match object; span=(0, 24), match='005_UCR...  \n",
       "..                                                 ...  \n",
       "245  <re.Match object; span=(0, 26), match='246_UCR...  \n",
       "246  <re.Match object; span=(0, 25), match='247_UCR...  \n",
       "247  <re.Match object; span=(0, 24), match='248_UCR...  \n",
       "248  <re.Match object; span=(0, 24), match='249_UCR...  \n",
       "249  <re.Match object; span=(0, 24), match='250_UCR...  \n",
       "\n",
       "[250 rows x 2 columns]"
      ]
     },
     "execution_count": 17,
     "metadata": {},
     "output_type": "execute_result"
    }
   ],
   "source": [
    "regex = re.compile(r'^\\d{3}_UCR_Anomaly_(?P<pos>\\d+)\\.txt$')\n",
    "#result = regex.search(filename)\n",
    "#threshold = int(result.group('pos'))\n",
    "#threshold2 = result.group('pos')\n",
    "\n",
    "text_files = pd.DataFrame([f for f in os.listdir(BASE_PATH) if f.endswith('.txt')],\n",
    "                         columns=['filename'])\n",
    "\n",
    "text_files['result'] = text_files['filename'].apply(regex.search)\n",
    "#text_files['threshold'] = text_files.result'].apply(text_files.result.group('pos'))\n",
    "\n",
    "#text_files = text_files.drop(columns=['result'])\n",
    "\n",
    "text_files"
   ]
  },
  {
   "cell_type": "code",
   "execution_count": 13,
   "id": "e7b6c11c",
   "metadata": {},
   "outputs": [
    {
     "name": "stdout",
     "output_type": "stream",
     "text": [
      "001_UCR_Anomaly_35000.txt\n",
      "re.compile('^\\\\d{3}_UCR_Anomaly_(?P<pos>\\\\d+)\\\\.txt$')\n",
      "<re.Match object; span=(0, 25), match='001_UCR_Anomaly_35000.txt'>\n",
      "35000\n"
     ]
    }
   ],
   "source": [
    "filename = ('001_UCR_Anomaly_35000.txt')\n",
    "\n",
    "\n",
    "regex = re.compile(r'^\\d{3}_UCR_Anomaly_(?P<pos>\\d+)\\.txt$')\n",
    "result = regex.search(filename)\n",
    "threshold = int(result.group('pos'))\n",
    "\n",
    "print(filename)\n",
    "print(regex)\n",
    "print(result)\n",
    "print(threshold)"
   ]
  },
  {
   "cell_type": "code",
   "execution_count": null,
   "id": "c1777141",
   "metadata": {},
   "outputs": [],
   "source": []
  }
 ],
 "metadata": {
  "kernelspec": {
   "display_name": "Python 3",
   "language": "python",
   "name": "python3"
  },
  "language_info": {
   "codemirror_mode": {
    "name": "ipython",
    "version": 3
   },
   "file_extension": ".py",
   "mimetype": "text/x-python",
   "name": "python",
   "nbconvert_exporter": "python",
   "pygments_lexer": "ipython3",
   "version": "3.8.8"
  }
 },
 "nbformat": 4,
 "nbformat_minor": 5
}
