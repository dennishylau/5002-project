{
 "cells": [
  {
   "cell_type": "code",
   "execution_count": 4,
   "id": "6aaeb8e4",
   "metadata": {},
   "outputs": [],
   "source": [
    "import os\n",
    "import re\n",
    "import pandas as pd"
   ]
  },
  {
   "cell_type": "code",
   "execution_count": 5,
   "id": "20b84b27",
   "metadata": {},
   "outputs": [],
   "source": [
    "BASE_PATH = '../data-sets/KDD-Cup/data/'"
   ]
  },
  {
   "cell_type": "code",
   "execution_count": 6,
   "id": "b979194c",
   "metadata": {},
   "outputs": [
    {
     "data": {
      "text/html": [
       "<div>\n",
       "<style scoped>\n",
       "    .dataframe tbody tr th:only-of-type {\n",
       "        vertical-align: middle;\n",
       "    }\n",
       "\n",
       "    .dataframe tbody tr th {\n",
       "        vertical-align: top;\n",
       "    }\n",
       "\n",
       "    .dataframe thead th {\n",
       "        text-align: right;\n",
       "    }\n",
       "</style>\n",
       "<table border=\"1\" class=\"dataframe\">\n",
       "  <thead>\n",
       "    <tr style=\"text-align: right;\">\n",
       "      <th></th>\n",
       "      <th>filename</th>\n",
       "      <th>threshold</th>\n",
       "    </tr>\n",
       "  </thead>\n",
       "  <tbody>\n",
       "    <tr>\n",
       "      <th>0</th>\n",
       "      <td>001_UCR_Anomaly_35000.txt</td>\n",
       "      <td>35000</td>\n",
       "    </tr>\n",
       "    <tr>\n",
       "      <th>1</th>\n",
       "      <td>002_UCR_Anomaly_35000.txt</td>\n",
       "      <td>35000</td>\n",
       "    </tr>\n",
       "    <tr>\n",
       "      <th>2</th>\n",
       "      <td>003_UCR_Anomaly_35000.txt</td>\n",
       "      <td>35000</td>\n",
       "    </tr>\n",
       "    <tr>\n",
       "      <th>3</th>\n",
       "      <td>004_UCR_Anomaly_2500.txt</td>\n",
       "      <td>2500</td>\n",
       "    </tr>\n",
       "    <tr>\n",
       "      <th>4</th>\n",
       "      <td>005_UCR_Anomaly_4000.txt</td>\n",
       "      <td>4000</td>\n",
       "    </tr>\n",
       "    <tr>\n",
       "      <th>...</th>\n",
       "      <td>...</td>\n",
       "      <td>...</td>\n",
       "    </tr>\n",
       "    <tr>\n",
       "      <th>245</th>\n",
       "      <td>246_UCR_Anomaly_100211.txt</td>\n",
       "      <td>100211</td>\n",
       "    </tr>\n",
       "    <tr>\n",
       "      <th>246</th>\n",
       "      <td>247_UCR_Anomaly_50211.txt</td>\n",
       "      <td>50211</td>\n",
       "    </tr>\n",
       "    <tr>\n",
       "      <th>247</th>\n",
       "      <td>248_UCR_Anomaly_2000.txt</td>\n",
       "      <td>2000</td>\n",
       "    </tr>\n",
       "    <tr>\n",
       "      <th>248</th>\n",
       "      <td>249_UCR_Anomaly_2753.txt</td>\n",
       "      <td>2753</td>\n",
       "    </tr>\n",
       "    <tr>\n",
       "      <th>249</th>\n",
       "      <td>250_UCR_Anomaly_2951.txt</td>\n",
       "      <td>2951</td>\n",
       "    </tr>\n",
       "  </tbody>\n",
       "</table>\n",
       "<p>250 rows × 2 columns</p>\n",
       "</div>"
      ],
      "text/plain": [
       "                       filename threshold\n",
       "0     001_UCR_Anomaly_35000.txt     35000\n",
       "1     002_UCR_Anomaly_35000.txt     35000\n",
       "2     003_UCR_Anomaly_35000.txt     35000\n",
       "3      004_UCR_Anomaly_2500.txt      2500\n",
       "4      005_UCR_Anomaly_4000.txt      4000\n",
       "..                          ...       ...\n",
       "245  246_UCR_Anomaly_100211.txt    100211\n",
       "246   247_UCR_Anomaly_50211.txt     50211\n",
       "247    248_UCR_Anomaly_2000.txt      2000\n",
       "248    249_UCR_Anomaly_2753.txt      2753\n",
       "249    250_UCR_Anomaly_2951.txt      2951\n",
       "\n",
       "[250 rows x 2 columns]"
      ]
     },
     "execution_count": 6,
     "metadata": {},
     "output_type": "execute_result"
    }
   ],
   "source": [
    "regex = re.compile(r'^\\d{3}_UCR_Anomaly_(?P<pos>\\d+)\\.txt$')\n",
    "\n",
    "text_files = pd.DataFrame([f for f in os.listdir(BASE_PATH) if f.endswith('.txt')],\n",
    "                         columns=['filename'])\n",
    "text_files['threshold'] = text_files['filename'].str.extract(regex, expand=True)\n",
    "\n",
    "text_files"
   ]
  }
 ],
 "metadata": {
  "kernelspec": {
   "display_name": "Python 3",
   "language": "python",
   "name": "python3"
  },
  "language_info": {
   "codemirror_mode": {
    "name": "ipython",
    "version": 3
   },
   "file_extension": ".py",
   "mimetype": "text/x-python",
   "name": "python",
   "nbconvert_exporter": "python",
   "pygments_lexer": "ipython3",
   "version": "3.8.8"
  }
 },
 "nbformat": 4,
 "nbformat_minor": 5
}
