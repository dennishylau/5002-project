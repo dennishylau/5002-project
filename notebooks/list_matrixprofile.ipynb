{
 "cells": [
  {
   "cell_type": "markdown",
   "metadata": {},
   "source": [
    "# Find anomaly in a single time series using `matrixprofile`"
   ]
  },
  {
   "cell_type": "markdown",
   "metadata": {},
   "source": [
    "More on matrixprofile: https://towardsdatascience.com/introduction-to-matrix-profiles-5568f3375d90"
   ]
  },
  {
   "cell_type": "code",
   "execution_count": 1,
   "metadata": {},
   "outputs": [],
   "source": [
    "%matplotlib widget\n",
    "%reload_ext autoreload\n",
    "%autoreload 2\n",
    "\n",
    "import os\n",
    "import re\n",
    "import json\n",
    "from typing import *\n",
    "import pandas as pd\n",
    "import matplotlib.pyplot as plt\n",
    "import numpy as np\n",
    "import pandas as pd\n",
    "import matrixprofile as mp\n",
    "from matrixprofile import *\n",
    "from tqdm import tqdm"
   ]
  },
  {
   "cell_type": "code",
   "execution_count": 2,
   "metadata": {},
   "outputs": [],
   "source": [
    "NOTEBOOK_DIR = os.getcwd()"
   ]
  },
  {
   "cell_type": "code",
   "execution_count": 3,
   "metadata": {},
   "outputs": [],
   "source": [
    "os.chdir('../data-sets/KDD-Cup/data/')"
   ]
  },
  {
   "cell_type": "code",
   "execution_count": 4,
   "metadata": {},
   "outputs": [],
   "source": [
    "def cal_matrix_profile(filename: str, type: str = 'discords') -> dict:\n",
    "    'type: either `motifs` or `discords`'\n",
    "    df = pd.read_csv(filename, names=['values'])\n",
    "    try:\n",
    "        df['values'] = df['values'].astype(float)\n",
    "    except ValueError:\n",
    "        df = pd.DataFrame([i for i in df.loc[0, 'values'].split(' ') if i != ''], columns=['values'])\n",
    "        df['values'] = df['values'].astype(float)\n",
    "        \n",
    "    #set window size\n",
    "    window_size=100\n",
    "    #calculating the matrix profile with window size'4'\n",
    "    profile = mp.compute(df['values'].values, window_size)\n",
    "    if type == 'motifs':\n",
    "        profile = mp.discover.motifs(profile, k=window_size)\n",
    "    else:\n",
    "        profile = mp.discover.discords(profile)\n",
    "    return profile"
   ]
  },
  {
   "cell_type": "code",
   "execution_count": 12,
   "metadata": {},
   "outputs": [
    {
     "name": "stderr",
     "output_type": "stream",
     "text": [
      "100%|██████████| 250/250 [1:58:58<00:00, 28.55s/it]\n"
     ]
    }
   ],
   "source": [
    "def cal_matrix_profile_list(filenames: list[str]) -> dict[str, Dict[str, Union[List[int], Exception]]]:\n",
    "    discords_dict = dict()\n",
    "    for filename in tqdm(filenames):\n",
    "        try:\n",
    "            profile = cal_matrix_profile(filename)\n",
    "            discords = sorted(profile['discords'].tolist())\n",
    "            regex = re.compile(r'^\\d{3}_UCR_Anomaly_(?P<pos>\\d+)\\.txt$')\n",
    "            result = regex.search(filename)\n",
    "            threshold = int(result.group('pos'))\n",
    "            filtered_discords = [i for i in discords if i >= threshold]\n",
    "            if len(filtered_discords) > 0 and filtered_discords[-1] - filtered_discords[0] < 10:\n",
    "                merged_discord = int(np.average(filtered_discords))\n",
    "            else:\n",
    "                merged_discord = None\n",
    "            discords_dict[filename] = {\n",
    "                'discords': discords,\n",
    "                'filtered_discords': filtered_discords, \n",
    "                'merged_discord': merged_discord\n",
    "            }\n",
    "        except Exception as e:\n",
    "            print(f'Error at {filename}')\n",
    "            discords_dict[filename] = e\n",
    "    return discords_dict\n",
    "\n",
    "filenames = [i for i in sorted(os.listdir()) if 'txt' in i]\n",
    "discords = cal_matrix_profile_list(filenames)"
   ]
  },
  {
   "cell_type": "code",
   "execution_count": 13,
   "metadata": {},
   "outputs": [],
   "source": [
    "# export those without error\n",
    "# note that some of items contain multiple anomaly points\n",
    "\n",
    "os.chdir(NOTEBOOK_DIR)\n",
    "\n",
    "with open(\"matrixprofile.json\", \"w\") as outfile:\n",
    "    json.dump(discords, outfile)\n"
   ]
  },
  {
   "cell_type": "code",
   "execution_count": 11,
   "metadata": {},
   "outputs": [
    {
     "data": {
      "text/plain": [
       "241"
      ]
     },
     "execution_count": 11,
     "metadata": {},
     "output_type": "execute_result"
    }
   ],
   "source": [
    "len(discords)"
   ]
  },
  {
   "cell_type": "code",
   "execution_count": 75,
   "metadata": {},
   "outputs": [],
   "source": [
    "d = sorted(discords['187_UCR_Anomaly_30000.txt'].tolist())"
   ]
  },
  {
   "cell_type": "code",
   "execution_count": 76,
   "metadata": {},
   "outputs": [],
   "source": [
    "if d[-1] - d[0] < 10:\n",
    "    merged_discord = int(sum(d) / len(d))"
   ]
  },
  {
   "cell_type": "code",
   "execution_count": 78,
   "metadata": {},
   "outputs": [
    {
     "data": {
      "text/plain": [
       "2.0"
      ]
     },
     "execution_count": 78,
     "metadata": {},
     "output_type": "execute_result"
    }
   ],
   "source": [
    "np.average([1,2,3])"
   ]
  },
  {
   "cell_type": "markdown",
   "metadata": {},
   "source": [
    "# debug"
   ]
  },
  {
   "cell_type": "code",
   "execution_count": 54,
   "metadata": {},
   "outputs": [
    {
     "data": {
      "text/html": [
       "<div>\n",
       "<style scoped>\n",
       "    .dataframe tbody tr th:only-of-type {\n",
       "        vertical-align: middle;\n",
       "    }\n",
       "\n",
       "    .dataframe tbody tr th {\n",
       "        vertical-align: top;\n",
       "    }\n",
       "\n",
       "    .dataframe thead th {\n",
       "        text-align: right;\n",
       "    }\n",
       "</style>\n",
       "<table border=\"1\" class=\"dataframe\">\n",
       "  <thead>\n",
       "    <tr style=\"text-align: right;\">\n",
       "      <th></th>\n",
       "      <th>value</th>\n",
       "    </tr>\n",
       "  </thead>\n",
       "  <tbody>\n",
       "    <tr>\n",
       "      <th>0</th>\n",
       "      <td>7716.0</td>\n",
       "    </tr>\n",
       "    <tr>\n",
       "      <th>1</th>\n",
       "      <td>7573.0</td>\n",
       "    </tr>\n",
       "    <tr>\n",
       "      <th>2</th>\n",
       "      <td>7409.0</td>\n",
       "    </tr>\n",
       "    <tr>\n",
       "      <th>3</th>\n",
       "      <td>7298.0</td>\n",
       "    </tr>\n",
       "    <tr>\n",
       "      <th>4</th>\n",
       "      <td>7139.0</td>\n",
       "    </tr>\n",
       "    <tr>\n",
       "      <th>...</th>\n",
       "      <td>...</td>\n",
       "    </tr>\n",
       "    <tr>\n",
       "      <th>41995</th>\n",
       "      <td>8287.0</td>\n",
       "    </tr>\n",
       "    <tr>\n",
       "      <th>41996</th>\n",
       "      <td>8202.0</td>\n",
       "    </tr>\n",
       "    <tr>\n",
       "      <th>41997</th>\n",
       "      <td>8075.0</td>\n",
       "    </tr>\n",
       "    <tr>\n",
       "      <th>41998</th>\n",
       "      <td>7880.0</td>\n",
       "    </tr>\n",
       "    <tr>\n",
       "      <th>41999</th>\n",
       "      <td>7729.0</td>\n",
       "    </tr>\n",
       "  </tbody>\n",
       "</table>\n",
       "<p>42000 rows × 1 columns</p>\n",
       "</div>"
      ],
      "text/plain": [
       "        value\n",
       "0      7716.0\n",
       "1      7573.0\n",
       "2      7409.0\n",
       "3      7298.0\n",
       "4      7139.0\n",
       "...       ...\n",
       "41995  8287.0\n",
       "41996  8202.0\n",
       "41997  8075.0\n",
       "41998  7880.0\n",
       "41999  7729.0\n",
       "\n",
       "[42000 rows x 1 columns]"
      ]
     },
     "execution_count": 54,
     "metadata": {},
     "output_type": "execute_result"
    }
   ],
   "source": [
    "df = pd.read_csv('206_UCR_Anomaly_25130.txt', names=['value'])\n",
    "try:\n",
    "    df['value'] = df['value'].astype(float)\n",
    "except ValueError:\n",
    "    df = pd.DataFrame([i for i in df.loc[0, 'value'].split(' ') if i != ''], columns=['value'])\n",
    "    df['value'] = df['value'].astype(float)\n",
    "\n",
    "df"
   ]
  },
  {
   "cell_type": "code",
   "execution_count": null,
   "metadata": {},
   "outputs": [],
   "source": []
  }
 ],
 "metadata": {
  "interpreter": {
   "hash": "86fe9e53bc0e86f805aec5f2bbd6ea332f33b57c8652d8bb41887c9297450cae"
  },
  "kernelspec": {
   "display_name": "Python 3.9.4 64-bit ('5002-project': conda)",
   "name": "python3"
  },
  "language_info": {
   "codemirror_mode": {
    "name": "ipython",
    "version": 3
   },
   "file_extension": ".py",
   "mimetype": "text/x-python",
   "name": "python",
   "nbconvert_exporter": "python",
   "pygments_lexer": "ipython3",
   "version": "3.9.4"
  },
  "orig_nbformat": 4
 },
 "nbformat": 4,
 "nbformat_minor": 2
}
